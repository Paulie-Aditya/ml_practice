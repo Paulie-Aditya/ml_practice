{
 "cells": [
  {
   "cell_type": "code",
   "execution_count": 1,
   "metadata": {},
   "outputs": [],
   "source": [
    "import numpy as np\n",
    "import pandas as pd"
   ]
  },
  {
   "cell_type": "code",
   "execution_count": 2,
   "metadata": {},
   "outputs": [],
   "source": [
    "import gensim\n",
    "import os"
   ]
  },
  {
   "cell_type": "code",
   "execution_count": 3,
   "metadata": {},
   "outputs": [],
   "source": [
    "import nltk\n",
    "#nltk.download('punkt')\n",
    "from nltk import sent_tokenize\n",
    "from gensim.utils import simple_preprocess\n",
    "\n",
    "story = []\n",
    "\n",
    "for filename in os.listdir('data'):\n",
    "    f = open(os.path.join('data',filename))\n",
    "    corpus = f.read()\n",
    "    raw_sent = sent_tokenize(corpus)\n",
    "    for sent in raw_sent:\n",
    "        story.append(simple_preprocess(sent))"
   ]
  },
  {
   "cell_type": "code",
   "execution_count": 4,
   "metadata": {},
   "outputs": [
    {
     "data": {
      "text/plain": [
       "145020"
      ]
     },
     "execution_count": 4,
     "metadata": {},
     "output_type": "execute_result"
    }
   ],
   "source": [
    "len(story)"
   ]
  },
  {
   "cell_type": "code",
   "execution_count": 5,
   "metadata": {},
   "outputs": [],
   "source": [
    "model = gensim.models.Word2Vec(\n",
    "    window=10,\n",
    "    min_count=2\n",
    ")"
   ]
  },
  {
   "cell_type": "code",
   "execution_count": 6,
   "metadata": {},
   "outputs": [],
   "source": [
    "model.build_vocab(story)"
   ]
  },
  {
   "cell_type": "code",
   "execution_count": 7,
   "metadata": {},
   "outputs": [
    {
     "data": {
      "text/plain": [
       "(6569403, 8628190)"
      ]
     },
     "execution_count": 7,
     "metadata": {},
     "output_type": "execute_result"
    }
   ],
   "source": [
    "model.train(story, epochs= model.epochs, total_examples=model.corpus_count)"
   ]
  },
  {
   "cell_type": "code",
   "execution_count": 8,
   "metadata": {},
   "outputs": [
    {
     "data": {
      "text/plain": [
       "[('stormborn', 0.827881932258606),\n",
       " ('targaryen', 0.7606474757194519),\n",
       " ('unburnt', 0.7507864832878113),\n",
       " ('princess', 0.730282723903656),\n",
       " ('queen', 0.7237371802330017),\n",
       " ('myrcella', 0.7184904217720032),\n",
       " ('elia', 0.6875001788139343),\n",
       " ('margaery', 0.6827835440635681),\n",
       " ('dorne', 0.6751729249954224),\n",
       " ('aegon', 0.6750441789627075)]"
      ]
     },
     "execution_count": 8,
     "metadata": {},
     "output_type": "execute_result"
    }
   ],
   "source": [
    "model.wv.most_similar('daenerys')"
   ]
  },
  {
   "cell_type": "code",
   "execution_count": 9,
   "metadata": {},
   "outputs": [
    {
     "data": {
      "text/plain": [
       "'jon'"
      ]
     },
     "execution_count": 9,
     "metadata": {},
     "output_type": "execute_result"
    }
   ],
   "source": [
    "model.wv.doesnt_match(['jon','arya','robb','rikon','bran', 'sansa'])"
   ]
  },
  {
   "cell_type": "code",
   "execution_count": 10,
   "metadata": {},
   "outputs": [
    {
     "data": {
      "text/plain": [
       "'bronn'"
      ]
     },
     "execution_count": 10,
     "metadata": {},
     "output_type": "execute_result"
    }
   ],
   "source": [
    "model.wv.doesnt_match(['cersei','jaime','bronn','tyrion'])"
   ]
  },
  {
   "cell_type": "code",
   "execution_count": 11,
   "metadata": {},
   "outputs": [
    {
     "data": {
      "text/plain": [
       "array([ 2.0845926 , -0.24295436,  1.4341959 ,  0.2790814 , -0.00747081,\n",
       "        0.9835141 ,  1.1471838 ,  0.86075026, -2.0352273 ,  1.2194614 ,\n",
       "       -2.199913  , -1.0666113 , -1.1946994 ,  0.9921017 , -3.266543  ,\n",
       "       -2.0149589 ,  0.2341977 ,  1.7923354 ,  0.80589026,  1.0218414 ,\n",
       "        2.2804182 , -0.95370334,  2.177177  , -4.147932  , -1.6797668 ,\n",
       "        0.9956645 , -1.5900228 , -1.6156349 , -0.41587114,  0.64493155,\n",
       "       -2.281036  ,  0.3308185 ,  2.4495678 , -2.210439  ,  2.137652  ,\n",
       "       -4.6015086 , -3.2462943 , -0.5360219 ,  1.1005833 , -2.8132699 ,\n",
       "       -0.16383423,  2.5158372 ,  1.2187837 , -0.7987444 , -1.0576167 ,\n",
       "       -0.26955444,  2.2060056 , -0.8624694 ,  1.2520816 , -1.0890443 ,\n",
       "       -3.4493508 , -1.9986306 , -1.5636319 , -3.0796633 ,  3.4394896 ,\n",
       "       -2.5693092 , -0.13760592,  0.8117965 ,  0.24846564,  0.8091617 ,\n",
       "        0.20670776,  1.9427867 , -1.7616907 , -1.7545055 ,  0.99766845,\n",
       "        2.3811178 , -0.5037918 ,  0.02405397, -0.31495157, -1.2581353 ,\n",
       "        0.46951205,  1.1674877 ,  5.0995684 , -0.8222864 ,  0.43928838,\n",
       "       -0.14595696, -2.3863995 , -0.7003954 , -0.87808317, -2.0640566 ,\n",
       "       -0.03003056,  3.962509  , -1.939082  , -0.8126694 , -3.2986836 ,\n",
       "       -1.8469542 , -0.6633284 ,  1.4399242 ,  0.5816419 , -0.29297933,\n",
       "        0.28776863, -0.49147424, -1.0653845 , -3.774069  ,  0.29738668,\n",
       "       -2.078267  , -2.0631003 , -1.1825802 , -1.7879324 ,  0.90732706],\n",
       "      dtype=float32)"
      ]
     },
     "execution_count": 11,
     "metadata": {},
     "output_type": "execute_result"
    }
   ],
   "source": [
    "model.wv['king']"
   ]
  },
  {
   "cell_type": "code",
   "execution_count": 12,
   "metadata": {},
   "outputs": [
    {
     "data": {
      "text/plain": [
       "0.8566501"
      ]
     },
     "execution_count": 12,
     "metadata": {},
     "output_type": "execute_result"
    }
   ],
   "source": [
    "model.wv.similarity('arya','sansa')"
   ]
  },
  {
   "cell_type": "code",
   "execution_count": 13,
   "metadata": {},
   "outputs": [
    {
     "data": {
      "text/plain": [
       "0.71740407"
      ]
     },
     "execution_count": 13,
     "metadata": {},
     "output_type": "execute_result"
    }
   ],
   "source": [
    "model.wv.similarity('jaime','cersei')"
   ]
  },
  {
   "cell_type": "code",
   "execution_count": 14,
   "metadata": {},
   "outputs": [
    {
     "data": {
      "text/plain": [
       "array([[-0.00789126, -0.16804205,  0.12455294, ..., -0.13571225,\n",
       "        -0.03334463,  0.01580936],\n",
       "       [-0.14756475, -0.1903285 ,  0.10051121, ..., -0.07503216,\n",
       "        -0.07804399,  0.09705313],\n",
       "       [ 0.19304484, -0.05683899, -0.0707245 , ...,  0.01260382,\n",
       "         0.0301799 , -0.01488952],\n",
       "       ...,\n",
       "       [ 0.00970505,  0.09180772, -0.02306174, ..., -0.08477966,\n",
       "         0.16810289, -0.11308735],\n",
       "       [ 0.0449072 ,  0.0328376 ,  0.14233798, ..., -0.05865619,\n",
       "         0.1526002 , -0.14032517],\n",
       "       [-0.07465576,  0.08786105,  0.08538759, ..., -0.08396833,\n",
       "         0.05683535, -0.07628695]], dtype=float32)"
      ]
     },
     "execution_count": 14,
     "metadata": {},
     "output_type": "execute_result"
    }
   ],
   "source": [
    "model.wv.get_normed_vectors()"
   ]
  }
 ],
 "metadata": {
  "kernelspec": {
   "display_name": "Python 3",
   "language": "python",
   "name": "python3"
  },
  "language_info": {
   "codemirror_mode": {
    "name": "ipython",
    "version": 3
   },
   "file_extension": ".py",
   "mimetype": "text/x-python",
   "name": "python",
   "nbconvert_exporter": "python",
   "pygments_lexer": "ipython3",
   "version": "3.9.13"
  },
  "orig_nbformat": 4
 },
 "nbformat": 4,
 "nbformat_minor": 2
}
