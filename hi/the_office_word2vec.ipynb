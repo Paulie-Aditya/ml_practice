{
 "cells": [
  {
   "cell_type": "code",
   "execution_count": 4,
   "metadata": {},
   "outputs": [],
   "source": [
    "import numpy as np\n",
    "import pandas as pd\n",
    "import gensim\n",
    "import nltk"
   ]
  },
  {
   "cell_type": "code",
   "execution_count": 5,
   "metadata": {},
   "outputs": [],
   "source": [
    "from nltk import sent_tokenize\n",
    "\n",
    "story = []\n",
    "\n",
    "#df = pd.DataFrame(pd.read_csv('./the-office_lines.csv'))\n",
    "df = pd.read_csv('./the-office_lines.csv')\n"
   ]
  },
  {
   "cell_type": "code",
   "execution_count": 6,
   "metadata": {},
   "outputs": [
    {
     "data": {
      "text/plain": [
       "0         right jim.  quarterlies look  good.   things ...\n",
       "1                   oh,  told you.  couldn’t close it. so…\n",
       "2         you’ve come   master  guidance?    you’re say...\n",
       "3                         actually,  called   here,  yeah.\n",
       "4                      right. well, let  show   it’s done.\n",
       "                               ...                        \n",
       "58716      seems   arbitrary.  applied   job   company ...\n",
       "58717      feel lucky   got  chance  share  crummy stor...\n",
       "58718    i’m happy     filmed    remember everyone    d...\n",
       "58719     sold paper   company  12 years.  job   speak ...\n",
       "58720     thought   weird   picked us  make  documentar...\n",
       "Name: Line, Length: 58721, dtype: object"
      ]
     },
     "execution_count": 6,
     "metadata": {},
     "output_type": "execute_result"
    }
   ],
   "source": [
    "#Preprocessing\n",
    "\n",
    "#lowercasing\n",
    "df['Line']= df['Line'].str.lower()\n",
    "\n",
    "#removing html elements\n",
    "import html\n",
    "def html_removal(text):\n",
    "  return html.unescape(text)\n",
    "\n",
    "df['Line'] = df['Line'].apply(html_removal)\n",
    "\n",
    "\n",
    "\n",
    "#removing punctuation\n",
    "import string\n",
    "def remove_punc(text):\n",
    "  exclude = string.punctuation\n",
    "  for char in exclude:\n",
    "    text = text.replace(char,'')\n",
    "  return text\n",
    "\n",
    "\n",
    "df['Line'] = df['Line'].apply(remove_punc)\n",
    "\n",
    "\n",
    "\n",
    "#stop words removal\n",
    "from nltk.corpus import stopwords\n",
    "\n",
    "def remove_stopwords(text):\n",
    "  new_text = []\n",
    "\n",
    "  for word in text.split():\n",
    "    if word in stopwords.words('english'):\n",
    "      new_text.append('')\n",
    "    else:\n",
    "      new_text.append(word)\n",
    "  x = new_text[:]\n",
    "  new_text.clear()\n",
    "\n",
    "  return ' '.join(x)\n",
    "\n",
    "df['Line'] = df['Line'].apply(remove_stopwords)"
   ]
  },
  {
   "cell_type": "code",
   "execution_count": 7,
   "metadata": {},
   "outputs": [
    {
     "data": {
      "text/html": [
       "<div>\n",
       "<style scoped>\n",
       "    .dataframe tbody tr th:only-of-type {\n",
       "        vertical-align: middle;\n",
       "    }\n",
       "\n",
       "    .dataframe tbody tr th {\n",
       "        vertical-align: top;\n",
       "    }\n",
       "\n",
       "    .dataframe thead th {\n",
       "        text-align: right;\n",
       "    }\n",
       "</style>\n",
       "<table border=\"1\" class=\"dataframe\">\n",
       "  <thead>\n",
       "    <tr style=\"text-align: right;\">\n",
       "      <th></th>\n",
       "      <th>Unnamed: 0</th>\n",
       "      <th>Character</th>\n",
       "      <th>Line</th>\n",
       "      <th>Season</th>\n",
       "      <th>Episode_Number</th>\n",
       "    </tr>\n",
       "  </thead>\n",
       "  <tbody>\n",
       "    <tr>\n",
       "      <th>0</th>\n",
       "      <td>0</td>\n",
       "      <td>Michael</td>\n",
       "      <td>all right jim. your quarterlies look very goo...</td>\n",
       "      <td>1</td>\n",
       "      <td>1</td>\n",
       "    </tr>\n",
       "    <tr>\n",
       "      <th>1</th>\n",
       "      <td>1</td>\n",
       "      <td>Jim</td>\n",
       "      <td>oh, i told you. i couldn’t close it. so…</td>\n",
       "      <td>1</td>\n",
       "      <td>1</td>\n",
       "    </tr>\n",
       "    <tr>\n",
       "      <th>2</th>\n",
       "      <td>2</td>\n",
       "      <td>Michael</td>\n",
       "      <td>so you’ve come to the master for guidance? is...</td>\n",
       "      <td>1</td>\n",
       "      <td>1</td>\n",
       "    </tr>\n",
       "    <tr>\n",
       "      <th>3</th>\n",
       "      <td>3</td>\n",
       "      <td>Jim</td>\n",
       "      <td>actually, you called me in here, but yeah.</td>\n",
       "      <td>1</td>\n",
       "      <td>1</td>\n",
       "    </tr>\n",
       "    <tr>\n",
       "      <th>4</th>\n",
       "      <td>4</td>\n",
       "      <td>Michael</td>\n",
       "      <td>all right. well, let me show you how it’s don...</td>\n",
       "      <td>1</td>\n",
       "      <td>1</td>\n",
       "    </tr>\n",
       "  </tbody>\n",
       "</table>\n",
       "</div>"
      ],
      "text/plain": [
       "   Unnamed: 0 Character                                               Line  \\\n",
       "0           0   Michael   all right jim. your quarterlies look very goo...   \n",
       "1           1       Jim           oh, i told you. i couldn’t close it. so…   \n",
       "2           2   Michael   so you’ve come to the master for guidance? is...   \n",
       "3           3       Jim         actually, you called me in here, but yeah.   \n",
       "4           4   Michael   all right. well, let me show you how it’s don...   \n",
       "\n",
       "   Season  Episode_Number  \n",
       "0       1               1  \n",
       "1       1               1  \n",
       "2       1               1  \n",
       "3       1               1  \n",
       "4       1               1  "
      ]
     },
     "execution_count": 7,
     "metadata": {},
     "output_type": "execute_result"
    }
   ],
   "source": [
    "df.head()"
   ]
  },
  {
   "cell_type": "code",
   "execution_count": 8,
   "metadata": {},
   "outputs": [],
   "source": [
    "from gensim.utils import simple_preprocess\n",
    "\n",
    "for i in range(len(df['Line'])):\n",
    "    corpus = df['Line'][i]\n",
    "    raw_sent = sent_tokenize(corpus)\n",
    "    for sent in raw_sent:\n",
    "        story.append(simple_preprocess(sent))\n"
   ]
  },
  {
   "cell_type": "code",
   "execution_count": 21,
   "metadata": {},
   "outputs": [],
   "source": [
    "model = gensim.models.Word2Vec(\n",
    "    window=50,\n",
    "    min_count=5\n",
    ")"
   ]
  },
  {
   "cell_type": "code",
   "execution_count": 22,
   "metadata": {},
   "outputs": [],
   "source": [
    "model.build_vocab(story)"
   ]
  },
  {
   "cell_type": "code",
   "execution_count": 23,
   "metadata": {},
   "outputs": [
    {
     "data": {
      "text/plain": [
       "(2212007, 3111590)"
      ]
     },
     "execution_count": 23,
     "metadata": {},
     "output_type": "execute_result"
    }
   ],
   "source": [
    "model.train(story, epochs= model.epochs, total_examples=model.corpus_count)"
   ]
  },
  {
   "cell_type": "code",
   "execution_count": 29,
   "metadata": {},
   "outputs": [
    {
     "data": {
      "text/plain": [
       "[('california', 0.9349071383476257),\n",
       " ('deangelo', 0.926649808883667),\n",
       " ('candle', 0.9156023859977722),\n",
       " ('holly', 0.9125166535377502),\n",
       " ('gabe', 0.9033138751983643),\n",
       " ('approaches', 0.9024226069450378),\n",
       " ('jerry', 0.9022196531295776),\n",
       " ('enters', 0.9021190404891968),\n",
       " ('pans', 0.9013597369194031),\n",
       " ('thumbs', 0.9010019302368164)]"
      ]
     },
     "execution_count": 29,
     "metadata": {},
     "output_type": "execute_result"
    }
   ],
   "source": [
    "model.wv.most_similar('robert')"
   ]
  }
 ],
 "metadata": {
  "kernelspec": {
   "display_name": "Python 3",
   "language": "python",
   "name": "python3"
  },
  "language_info": {
   "codemirror_mode": {
    "name": "ipython",
    "version": 3
   },
   "file_extension": ".py",
   "mimetype": "text/x-python",
   "name": "python",
   "nbconvert_exporter": "python",
   "pygments_lexer": "ipython3",
   "version": "3.9.13"
  },
  "orig_nbformat": 4
 },
 "nbformat": 4,
 "nbformat_minor": 2
}
